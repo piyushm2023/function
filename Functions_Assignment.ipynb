{
  "nbformat": 4,
  "nbformat_minor": 0,
  "metadata": {
    "colab": {
      "provenance": []
    },
    "kernelspec": {
      "name": "python3",
      "display_name": "Python 3"
    },
    "language_info": {
      "name": "python"
    }
  },
  "cells": [
    {
      "cell_type": "markdown",
      "source": [
        "# ***Functions***\n",
        "\n",
        "---\n",
        "\n"
      ],
      "metadata": {
        "id": "M5QA5z__jDw_"
      }
    },
    {
      "cell_type": "markdown",
      "source": [
        "### *Theory Questions:*\n",
        "\n"
      ],
      "metadata": {
        "id": "Th3FgCqTjh8X"
      }
    },
    {
      "cell_type": "markdown",
      "source": [
        "1. What is the difference between a function and a method in Python?\n",
        "\n",
        " ans =  Functions are independent units of code. Methods are functions that know about and can work with the specific object they are called on. They are a key part of object-oriented programming, allowing you to define behaviors for your objects."
      ],
      "metadata": {
        "id": "KgJBwOZ6kIyy"
      }
    },
    {
      "cell_type": "code",
      "source": [
        "#ans example of funtion\n",
        "def addition (a,b):\n",
        "  return a+b\n",
        ""
      ],
      "metadata": {
        "id": "Tn56KZsfl9qU"
      },
      "execution_count": 11,
      "outputs": []
    },
    {
      "cell_type": "code",
      "source": [
        "addition (5,6)"
      ],
      "metadata": {
        "colab": {
          "base_uri": "https://localhost:8080/"
        },
        "id": "dUnZp4iJp2IO",
        "outputId": "e750efa5-23dc-4fdc-cb78-59884e87ed59"
      },
      "execution_count": 10,
      "outputs": [
        {
          "output_type": "execute_result",
          "data": {
            "text/plain": [
              "11"
            ]
          },
          "metadata": {},
          "execution_count": 10
        }
      ]
    },
    {
      "cell_type": "markdown",
      "source": [
        "2. Explain the concept of function arguments and parameters in Python.\n",
        "\n",
        " ans =Arguments :\n",
        " Arguments are the actual values that are passed to a function when you call it. These values are matched up with the parameters in the function definition.\n",
        "\n",
        "    Parameters : Parameters are the names listed within the parentheses in a function's definition. They act as placeholders for the values that will be passed into the function when it's called. Think of them as variables that are local to the function and receive values from the outside.\n"
      ],
      "metadata": {
        "id": "194vIHMVp11L"
      }
    },
    {
      "cell_type": "code",
      "execution_count": 21,
      "metadata": {
        "colab": {
          "base_uri": "https://localhost:8080/"
        },
        "id": "uBM59NFyjC7_",
        "outputId": "e9631954-78a3-49bd-8dd8-fd8b329214bb"
      },
      "outputs": [
        {
          "output_type": "stream",
          "name": "stdout",
          "text": [
            "Hello, Alice!\n",
            "Hi, Bob!\n"
          ]
        }
      ],
      "source": [
        "#example of arugment\n",
        "greet(\"Alice\")\n",
        "greet(\"Bob\", \"Hi\")"
      ]
    },
    {
      "cell_type": "code",
      "source": [
        "#example of parameters\n",
        "def add (x, y):\n",
        "  result = x + y\n",
        "  print(result)\n",
        "\n",
        "add (5, 3)"
      ],
      "metadata": {
        "colab": {
          "base_uri": "https://localhost:8080/"
        },
        "id": "Ef7aiqvJs3al",
        "outputId": "883d0a95-9b41-48cb-f864-a4b38bb111e1"
      },
      "execution_count": 23,
      "outputs": [
        {
          "output_type": "stream",
          "name": "stdout",
          "text": [
            "8\n"
          ]
        }
      ]
    },
    {
      "cell_type": "markdown",
      "source": [
        "3. What are the different ways to define and call a function in Python?\n",
        "\n",
        " ans = define functions in Python using the def keyword for standard, potentially multi-line functions, and the lambda keyword for concise, single-expression anonymous functions. You then call these functions by using their name followed by parentheses, providing arguments either positionally or by keyword."
      ],
      "metadata": {
        "id": "xGqGOThRw_gh"
      }
    },
    {
      "cell_type": "code",
      "source": [
        "#example\n",
        "def multiply(a, b):\n",
        "  return a * b\n",
        "\n",
        "result1 = multiply(4, 6)\n",
        "print(result1)\n",
        "\n",
        "result2 = multiply(b=5, a=2)\n",
        "print(result2)"
      ],
      "metadata": {
        "colab": {
          "base_uri": "https://localhost:8080/"
        },
        "id": "CdkOmNRUzVcn",
        "outputId": "de056dfb-f4ed-4f7a-f80d-b5551155bf2d"
      },
      "execution_count": 27,
      "outputs": [
        {
          "output_type": "stream",
          "name": "stdout",
          "text": [
            "24\n",
            "10\n"
          ]
        }
      ]
    },
    {
      "cell_type": "markdown",
      "source": [
        "4. What is the purpose of the return statement in a Python function?          \n",
        "    ans = The return statement is the mechanism by which a function communicates its result back to the calling code, and it also controls the termination of the function's execution. It's fundamental for creating modular and reusable code in Python."
      ],
      "metadata": {
        "id": "IFBgw4oFyx7g"
      }
    },
    {
      "cell_type": "markdown",
      "source": [
        "5. What are iterators in Python and how do they differ from iterables?\n",
        "\n",
        " ans = iterators : an iterater is an object respresenting a stream of data return the data one is differ from iterables because of iterater is a 1 part of process then iteration is 2 prat of process like given below example"
      ],
      "metadata": {
        "id": "AzLztTeo13SY"
      }
    },
    {
      "cell_type": "code",
      "source": [
        "#example\n",
        "s = \"piyush\" #iterator\n",
        "for i in s:#iterator\n",
        "  print (i)\n"
      ],
      "metadata": {
        "colab": {
          "base_uri": "https://localhost:8080/"
        },
        "id": "4B-9LNzGurxp",
        "outputId": "073f8e11-cf61-4219-ed27-aad071e120d0"
      },
      "execution_count": 29,
      "outputs": [
        {
          "output_type": "stream",
          "name": "stdout",
          "text": [
            "p\n",
            "i\n",
            "y\n",
            "u\n",
            "s\n",
            "h\n"
          ]
        }
      ]
    },
    {
      "cell_type": "markdown",
      "source": [
        "6. Explain the concept of generators in Python and how they are defined.       \n",
        " ans = generators are a powerful and memory-friendly feature in Python for creating iterators, particularly useful for processing large amounts of data or when you need to generate a sequence of values on the fly."
      ],
      "metadata": {
        "id": "qlleClcO4FzZ"
      }
    },
    {
      "cell_type": "markdown",
      "source": [
        "7. What are the advantages of using generators over regular functions?         \n",
        " ans = Generators can provide a more elegant and readable way to implement the logic compared to manually creating iterators. generators provide a powerful way to work with sequences in Python with significant benefits in terms of memory usage and performance, particularly when dealing with large or infinite datasets."
      ],
      "metadata": {
        "id": "MSEG-qPM5SWN"
      }
    },
    {
      "cell_type": "markdown",
      "source": [
        "8. What is a lambda function in Python and when is it typically used?\n",
        "\n",
        " ans =  lambda functions in Python are small, anonymous functions useful for concise, single-expression operations, particularly as arguments to higher-order functions. They offer brevity and inline definition but are limited in complexity compared to regular named functions."
      ],
      "metadata": {
        "id": "ng4RdtPB6_ES"
      }
    },
    {
      "cell_type": "markdown",
      "source": [
        "9. Explain the purpose and usage of the map() function in Python.              \n",
        " ans = The map() function in Python serves the purpose of applying a given function to each item in an iterable (like a list, tuple, or string) and returning an iterator that yields the results. Essentially, it allows you to transform every element of an iterable in a concise and efficient way without explicitly writing a loop."
      ],
      "metadata": {
        "id": "wA66ETmy8D9P"
      }
    },
    {
      "cell_type": "markdown",
      "source": [
        "10. What is the difference between map(), reduce(), and filter() functions in Python?                                                                              \n",
        "     ans =  map(): Transforms each item in an iterable. (One-to-one mapping)\n",
        "\n",
        "  filter(): Selects items from an iterable based on a condition. (Keeps some, discards others)\n",
        "  reduce(): Combines items in an iterable into a single value. (Many-to-one reduction)\n",
        "  \n",
        "  These functions promote a more functional programming style, often leading to more readable and concise code when dealing with collections of data."
      ],
      "metadata": {
        "id": "4GQsACRj8ezX"
      }
    },
    {
      "cell_type": "markdown",
      "source": [
        "11. Using pen & Paper write the internal mechanism for sum operation using  reduce function on this given\n",
        "list:[47,11,42,13]"
      ],
      "metadata": {
        "id": "KFqg8lhw-D-7"
      }
    },
    {
      "cell_type": "markdown",
      "source": [
        "# ***Practical Questions:***\n",
        "\n",
        "---\n",
        "\n"
      ],
      "metadata": {
        "id": "A4dUaq8s-OLU"
      }
    },
    {
      "cell_type": "markdown",
      "source": [
        "1. Write a Python function that takes a list of numbers as input and returns the sum of all even numbers in\n",
        "the list"
      ],
      "metadata": {
        "id": "kKqNPWp0-Z2N"
      }
    },
    {
      "cell_type": "code",
      "source": [
        "def sum_of_even_numbers(numbers):\n",
        "\n",
        "  even_sum = 0\n",
        "  for number in numbers:\n",
        "    if number % 2 == 0:\n",
        "      even_sum += number\n",
        "  return even_sum\n",
        "\n",
        "\n",
        "my_list = [1, 2, 3, 4, 5, 6, 7, 8, 9, 10]\n",
        "sum_even = sum_of_even_numbers(my_list)\n",
        "print(f\"The sum of even numbers in the list is: {sum_even}\")"
      ],
      "metadata": {
        "colab": {
          "base_uri": "https://localhost:8080/"
        },
        "id": "xQuYAI8M35kT",
        "outputId": "99df3e35-e015-4500-8722-4aefc3be5570"
      },
      "execution_count": 32,
      "outputs": [
        {
          "output_type": "stream",
          "name": "stdout",
          "text": [
            "The sum of even numbers in the list is: 30\n"
          ]
        }
      ]
    },
    {
      "cell_type": "markdown",
      "source": [
        "2. Create a Python function that accepts a string and returns the reverse of that string."
      ],
      "metadata": {
        "id": "nZNluuMY_C64"
      }
    },
    {
      "cell_type": "code",
      "source": [
        "def reverse_string(s):\n",
        "  return s[:-1]\n",
        "\n",
        "my_string = \"example\"\n",
        "reversed_string = reverse_string(my_string)\n",
        "print(f\"Original string: {my_string}\")\n",
        "print(f\"Reversed string: {reversed_string}\")"
      ],
      "metadata": {
        "colab": {
          "base_uri": "https://localhost:8080/"
        },
        "id": "vvKbWiMT_APn",
        "outputId": "d03f1601-9877-4ef7-f1fe-17de07779e6c"
      },
      "execution_count": 33,
      "outputs": [
        {
          "output_type": "stream",
          "name": "stdout",
          "text": [
            "Original string: example\n",
            "Reversed string: exampl\n"
          ]
        }
      ]
    },
    {
      "cell_type": "markdown",
      "source": [
        "3. Implement a Python function that takes a list of integers and returns a new list containing the squares of\n",
        "each number."
      ],
      "metadata": {
        "id": "ombab-uIAM7r"
      }
    },
    {
      "cell_type": "code",
      "source": [
        "def square_list(numbers):\n",
        "\n",
        "  squared_numbers = []\n",
        "  for number in numbers:\n",
        "    squared_numbers.append(number ** 2)\n",
        "  return squared_numbers\n",
        "\n",
        "my_list = [1, 2, 3, 4, 5]\n",
        "squares = square_list(my_list)\n",
        "print(f\"Original list: {my_list}\")\n",
        "print(f\"List of squares: {squares}\")"
      ],
      "metadata": {
        "colab": {
          "base_uri": "https://localhost:8080/"
        },
        "id": "QTScn15O_96r",
        "outputId": "de244b74-8eff-49e8-b1f4-9de73c9ff273"
      },
      "execution_count": 35,
      "outputs": [
        {
          "output_type": "stream",
          "name": "stdout",
          "text": [
            "Original list: [1, 2, 3, 4, 5]\n",
            "List of squares: [1, 4, 9, 16, 25]\n"
          ]
        }
      ]
    },
    {
      "cell_type": "markdown",
      "source": [
        "4. Write a Python function that checks if a given number is prime or not from 1 to 200."
      ],
      "metadata": {
        "id": "PHNr4ECZBXym"
      }
    },
    {
      "cell_type": "code",
      "source": [
        "def is_prime(num):\n",
        "\n",
        "  if num <= 1:\n",
        "    return False\n",
        "  if num <= 3:\n",
        "    return True\n",
        "  if num % 2 == 0 or num % 3 == 0:\n",
        "    return False\n",
        "  i = 5\n",
        "  while i * i <= num:\n",
        "    if num % i == 0 or num % (i + 2) == 0:\n",
        "      return False\n",
        "    i += 6\n",
        "  return True\n",
        "\n",
        "# prime numbers from 1 to 200:\n",
        "for i in range(1, 201):\n",
        "  if is_prime(i):\n",
        "    print(f\"{i} is a prime number\")\n",
        "  else:\n",
        "    print(f\"{i} is not a prime number\")"
      ],
      "metadata": {
        "colab": {
          "base_uri": "https://localhost:8080/"
        },
        "id": "C1jqtUnYBIxx",
        "outputId": "469d1d0f-bbcd-4e7b-a720-a87349c5524c"
      },
      "execution_count": 36,
      "outputs": [
        {
          "output_type": "stream",
          "name": "stdout",
          "text": [
            "1 is not a prime number\n",
            "2 is a prime number\n",
            "3 is a prime number\n",
            "4 is not a prime number\n",
            "5 is a prime number\n",
            "6 is not a prime number\n",
            "7 is a prime number\n",
            "8 is not a prime number\n",
            "9 is not a prime number\n",
            "10 is not a prime number\n",
            "11 is a prime number\n",
            "12 is not a prime number\n",
            "13 is a prime number\n",
            "14 is not a prime number\n",
            "15 is not a prime number\n",
            "16 is not a prime number\n",
            "17 is a prime number\n",
            "18 is not a prime number\n",
            "19 is a prime number\n",
            "20 is not a prime number\n",
            "21 is not a prime number\n",
            "22 is not a prime number\n",
            "23 is a prime number\n",
            "24 is not a prime number\n",
            "25 is not a prime number\n",
            "26 is not a prime number\n",
            "27 is not a prime number\n",
            "28 is not a prime number\n",
            "29 is a prime number\n",
            "30 is not a prime number\n",
            "31 is a prime number\n",
            "32 is not a prime number\n",
            "33 is not a prime number\n",
            "34 is not a prime number\n",
            "35 is not a prime number\n",
            "36 is not a prime number\n",
            "37 is a prime number\n",
            "38 is not a prime number\n",
            "39 is not a prime number\n",
            "40 is not a prime number\n",
            "41 is a prime number\n",
            "42 is not a prime number\n",
            "43 is a prime number\n",
            "44 is not a prime number\n",
            "45 is not a prime number\n",
            "46 is not a prime number\n",
            "47 is a prime number\n",
            "48 is not a prime number\n",
            "49 is not a prime number\n",
            "50 is not a prime number\n",
            "51 is not a prime number\n",
            "52 is not a prime number\n",
            "53 is a prime number\n",
            "54 is not a prime number\n",
            "55 is not a prime number\n",
            "56 is not a prime number\n",
            "57 is not a prime number\n",
            "58 is not a prime number\n",
            "59 is a prime number\n",
            "60 is not a prime number\n",
            "61 is a prime number\n",
            "62 is not a prime number\n",
            "63 is not a prime number\n",
            "64 is not a prime number\n",
            "65 is not a prime number\n",
            "66 is not a prime number\n",
            "67 is a prime number\n",
            "68 is not a prime number\n",
            "69 is not a prime number\n",
            "70 is not a prime number\n",
            "71 is a prime number\n",
            "72 is not a prime number\n",
            "73 is a prime number\n",
            "74 is not a prime number\n",
            "75 is not a prime number\n",
            "76 is not a prime number\n",
            "77 is not a prime number\n",
            "78 is not a prime number\n",
            "79 is a prime number\n",
            "80 is not a prime number\n",
            "81 is not a prime number\n",
            "82 is not a prime number\n",
            "83 is a prime number\n",
            "84 is not a prime number\n",
            "85 is not a prime number\n",
            "86 is not a prime number\n",
            "87 is not a prime number\n",
            "88 is not a prime number\n",
            "89 is a prime number\n",
            "90 is not a prime number\n",
            "91 is not a prime number\n",
            "92 is not a prime number\n",
            "93 is not a prime number\n",
            "94 is not a prime number\n",
            "95 is not a prime number\n",
            "96 is not a prime number\n",
            "97 is a prime number\n",
            "98 is not a prime number\n",
            "99 is not a prime number\n",
            "100 is not a prime number\n",
            "101 is a prime number\n",
            "102 is not a prime number\n",
            "103 is a prime number\n",
            "104 is not a prime number\n",
            "105 is not a prime number\n",
            "106 is not a prime number\n",
            "107 is a prime number\n",
            "108 is not a prime number\n",
            "109 is a prime number\n",
            "110 is not a prime number\n",
            "111 is not a prime number\n",
            "112 is not a prime number\n",
            "113 is a prime number\n",
            "114 is not a prime number\n",
            "115 is not a prime number\n",
            "116 is not a prime number\n",
            "117 is not a prime number\n",
            "118 is not a prime number\n",
            "119 is not a prime number\n",
            "120 is not a prime number\n",
            "121 is not a prime number\n",
            "122 is not a prime number\n",
            "123 is not a prime number\n",
            "124 is not a prime number\n",
            "125 is not a prime number\n",
            "126 is not a prime number\n",
            "127 is a prime number\n",
            "128 is not a prime number\n",
            "129 is not a prime number\n",
            "130 is not a prime number\n",
            "131 is a prime number\n",
            "132 is not a prime number\n",
            "133 is not a prime number\n",
            "134 is not a prime number\n",
            "135 is not a prime number\n",
            "136 is not a prime number\n",
            "137 is a prime number\n",
            "138 is not a prime number\n",
            "139 is a prime number\n",
            "140 is not a prime number\n",
            "141 is not a prime number\n",
            "142 is not a prime number\n",
            "143 is not a prime number\n",
            "144 is not a prime number\n",
            "145 is not a prime number\n",
            "146 is not a prime number\n",
            "147 is not a prime number\n",
            "148 is not a prime number\n",
            "149 is a prime number\n",
            "150 is not a prime number\n",
            "151 is a prime number\n",
            "152 is not a prime number\n",
            "153 is not a prime number\n",
            "154 is not a prime number\n",
            "155 is not a prime number\n",
            "156 is not a prime number\n",
            "157 is a prime number\n",
            "158 is not a prime number\n",
            "159 is not a prime number\n",
            "160 is not a prime number\n",
            "161 is not a prime number\n",
            "162 is not a prime number\n",
            "163 is a prime number\n",
            "164 is not a prime number\n",
            "165 is not a prime number\n",
            "166 is not a prime number\n",
            "167 is a prime number\n",
            "168 is not a prime number\n",
            "169 is not a prime number\n",
            "170 is not a prime number\n",
            "171 is not a prime number\n",
            "172 is not a prime number\n",
            "173 is a prime number\n",
            "174 is not a prime number\n",
            "175 is not a prime number\n",
            "176 is not a prime number\n",
            "177 is not a prime number\n",
            "178 is not a prime number\n",
            "179 is a prime number\n",
            "180 is not a prime number\n",
            "181 is a prime number\n",
            "182 is not a prime number\n",
            "183 is not a prime number\n",
            "184 is not a prime number\n",
            "185 is not a prime number\n",
            "186 is not a prime number\n",
            "187 is not a prime number\n",
            "188 is not a prime number\n",
            "189 is not a prime number\n",
            "190 is not a prime number\n",
            "191 is a prime number\n",
            "192 is not a prime number\n",
            "193 is a prime number\n",
            "194 is not a prime number\n",
            "195 is not a prime number\n",
            "196 is not a prime number\n",
            "197 is a prime number\n",
            "198 is not a prime number\n",
            "199 is a prime number\n",
            "200 is not a prime number\n"
          ]
        }
      ]
    },
    {
      "cell_type": "markdown",
      "source": [
        "5. Create an iterator class in Python that generates the Fibonacci sequence up to a specified number of\n",
        "terms"
      ],
      "metadata": {
        "id": "23wztPnoB65a"
      }
    },
    {
      "cell_type": "code",
      "source": [
        "def fib (n):\n",
        "  a = 0\n",
        "  b = 1\n",
        "  for i in range (n):\n",
        "    yield a\n",
        "    a, b = b, a + b"
      ],
      "metadata": {
        "id": "wFxu1qXcCVTF"
      },
      "execution_count": 47,
      "outputs": []
    },
    {
      "cell_type": "code",
      "source": [
        "f = fib(10)"
      ],
      "metadata": {
        "id": "BBb2_TyZHthI"
      },
      "execution_count": 48,
      "outputs": []
    },
    {
      "cell_type": "code",
      "source": [
        "f"
      ],
      "metadata": {
        "colab": {
          "base_uri": "https://localhost:8080/"
        },
        "id": "oosKnHH7H1lb",
        "outputId": "59cf1e39-a765-477c-e2a6-4a6e7da140e3"
      },
      "execution_count": 49,
      "outputs": [
        {
          "output_type": "execute_result",
          "data": {
            "text/plain": [
              "<generator object fib at 0x7c313b1b0a90>"
            ]
          },
          "metadata": {},
          "execution_count": 49
        }
      ]
    },
    {
      "cell_type": "code",
      "source": [
        "next(f)"
      ],
      "metadata": {
        "colab": {
          "base_uri": "https://localhost:8080/"
        },
        "id": "dJQnaF1XH5kn",
        "outputId": "8ecc2ee9-9eff-4126-b797-699369bbf78a"
      },
      "execution_count": 50,
      "outputs": [
        {
          "output_type": "execute_result",
          "data": {
            "text/plain": [
              "0"
            ]
          },
          "metadata": {},
          "execution_count": 50
        }
      ]
    },
    {
      "cell_type": "code",
      "source": [
        "next(f)"
      ],
      "metadata": {
        "colab": {
          "base_uri": "https://localhost:8080/"
        },
        "id": "RX-zyGj8H_GV",
        "outputId": "dab7bc7c-1d8c-40ba-81e5-a8c329b8d79c"
      },
      "execution_count": 51,
      "outputs": [
        {
          "output_type": "execute_result",
          "data": {
            "text/plain": [
              "1"
            ]
          },
          "metadata": {},
          "execution_count": 51
        }
      ]
    },
    {
      "cell_type": "markdown",
      "source": [
        "6. Write a generator function in Python that yields the powers of 2 up to a given exponent."
      ],
      "metadata": {
        "id": "1uYcT48uCrwc"
      }
    },
    {
      "cell_type": "code",
      "source": [
        "def powers_of_two(exponent):\n",
        "\n",
        "  for i in range(exponent + 1):\n",
        "    yield 2**i\n",
        "\n",
        "for power in powers_of_two(5):\n",
        "  print(power)"
      ],
      "metadata": {
        "colab": {
          "base_uri": "https://localhost:8080/"
        },
        "id": "ulbP5NC3CU2W",
        "outputId": "3e99118f-53b6-41cf-de89-9cb958eaa001"
      },
      "execution_count": 38,
      "outputs": [
        {
          "output_type": "stream",
          "name": "stdout",
          "text": [
            "1\n",
            "2\n",
            "4\n",
            "8\n",
            "16\n",
            "32\n"
          ]
        }
      ]
    },
    {
      "cell_type": "markdown",
      "source": [
        "7. Implement a generator function that reads a file line by line and yields each line as a string"
      ],
      "metadata": {
        "id": "KczBNyyiDWbQ"
      }
    },
    {
      "cell_type": "code",
      "source": [
        "def read_file_lines(file_path):\n",
        "\n",
        "  try:\n",
        "    with open(file_path, 'r') as file:\n",
        "      for line in file:\n",
        "        yield line.rstrip('\\n')\n",
        "  except FileNotFoundError:\n",
        "    print(f\"Error: File not found at {file_path}\")\n",
        "\n",
        "for line in read_file_lines('my_file.txt'):\n",
        "  print(f\"Processing line: {line}\")"
      ],
      "metadata": {
        "colab": {
          "base_uri": "https://localhost:8080/"
        },
        "id": "YylOO6b6DUvk",
        "outputId": "ac93d0db-ec45-4e92-d306-cf8a9b8d1cb6"
      },
      "execution_count": 39,
      "outputs": [
        {
          "output_type": "stream",
          "name": "stdout",
          "text": [
            "Error: File not found at my_file.txt\n"
          ]
        }
      ]
    },
    {
      "cell_type": "markdown",
      "source": [
        "8. Use a lambda function in Python to sort a list of tuples based on the second element of each tuple."
      ],
      "metadata": {
        "id": "cICg_OenD7RF"
      }
    },
    {
      "cell_type": "code",
      "source": [
        "my_list_of_tuples = [('apple', 5), ('banana', 2), ('cherry', 8), ('date', 1)]\n",
        "\n",
        "sorted_list = sorted(my_list_of_tuples, key=lambda item: item[1])\n",
        "\n",
        "print(sorted_list)"
      ],
      "metadata": {
        "colab": {
          "base_uri": "https://localhost:8080/"
        },
        "id": "DpGqWwDHD31O",
        "outputId": "57bd2d8b-3027-4fda-eeb0-aa08ae6db905"
      },
      "execution_count": 40,
      "outputs": [
        {
          "output_type": "stream",
          "name": "stdout",
          "text": [
            "[('date', 1), ('banana', 2), ('apple', 5), ('cherry', 8)]\n"
          ]
        }
      ]
    },
    {
      "cell_type": "markdown",
      "source": [
        "9. Write a Python program that uses `map()` to convert a list of temperatures from Celsius to Fahrenheit."
      ],
      "metadata": {
        "id": "2kOSplJkEcLa"
      }
    },
    {
      "cell_type": "code",
      "source": [
        "def celsius_to_fahrenheit(celsius):\n",
        "#Converts Celsius to Fahrenheit.\n",
        "  return (celsius * 9/5) + 32\n",
        "\n",
        "celsius_temperatures = [0, 25, 100, -10, 40]\n",
        "\n",
        "# Use the map() function to apply the conversion to each temperature\n",
        "fahrenheit_temperatures = list(map(celsius_to_fahrenheit, celsius_temperatures))\n",
        "\n",
        "print(f\"Celsius temperatures: {celsius_temperatures}\")\n",
        "print(f\"Fahrenheit temperatures: {fahrenheit_temperatures}\")"
      ],
      "metadata": {
        "colab": {
          "base_uri": "https://localhost:8080/"
        },
        "id": "H_2Yg3ZFE8Vz",
        "outputId": "07bada57-5e9d-45c7-f275-c9e04ff8e16c"
      },
      "execution_count": 44,
      "outputs": [
        {
          "output_type": "stream",
          "name": "stdout",
          "text": [
            "Celsius temperatures: [0, 25, 100, -10, 40]\n",
            "Fahrenheit temperatures: [32.0, 77.0, 212.0, 14.0, 104.0]\n"
          ]
        }
      ]
    },
    {
      "cell_type": "markdown",
      "source": [
        "10. Create a Python program that uses `filter()` to remove all the vowels from a given string."
      ],
      "metadata": {
        "id": "C6g3z8v3Fgpu"
      }
    },
    {
      "cell_type": "code",
      "source": [
        "def is_not_vowel(char):\n",
        "  vowels = \"aeiouAEIOU\"\n",
        "  return char not in vowels\n",
        "\n",
        "def remove_vowels(input_string):\n",
        "\n",
        "  filtered_chars = filter(is_not_vowel, input_string)\n",
        "  return \"\".join(filtered_chars)\n",
        "\n",
        "text = \"Hello World! How are you?\"\n",
        "vowel_removed_text = remove_vowels(text)\n",
        "print(f\"Original string: {text}\")\n",
        "print(f\"String without vowels: {vowel_removed_text}\")"
      ],
      "metadata": {
        "colab": {
          "base_uri": "https://localhost:8080/"
        },
        "id": "uwKbdrtwFBOo",
        "outputId": "42c8e800-8419-441b-bea5-7057ba10b8a3"
      },
      "execution_count": 45,
      "outputs": [
        {
          "output_type": "stream",
          "name": "stdout",
          "text": [
            "Original string: Hello World! How are you?\n",
            "String without vowels: Hll Wrld! Hw r y?\n"
          ]
        }
      ]
    },
    {
      "cell_type": "markdown",
      "source": [
        "11) Imagine an accounting routine used in a book shop. It works on a list with sublists, which look like this:\n",
        "\n",
        "\n",
        "Write a Python program, which returns a list with 2-tuples. Each tuple consists of the order number and the\n",
        "product of the price per item and the quantity. The product should be increased by 10,- € if the value of the\n",
        "order is smaller than 100,00 €.\n",
        "\n",
        "Write a Python program using lambda and map."
      ],
      "metadata": {
        "id": "fbBmTCCTGMz5"
      }
    },
    {
      "cell_type": "code",
      "source": [
        "book_orders = [\n",
        "    [34587, \"Learning Python, Mark Lutz\", 4, 40.95],\n",
        "    [98762, \"Programming Python, Mark Lutz\", 5, 56.80],\n",
        "    [77226, \"Head First Python, Paul Barry\", 3, 32.95],\n",
        "    [88112, \"Einführung in Python3, Bernd Klein\", 3, 24.99],\n",
        "]\n",
        "\n",
        "def calculate_adjusted_price(order):\n",
        "  \"\"\"Calculates the adjusted price based on the total order value.\"\"\"\n",
        "  order_number = order[0]\n",
        "  quantity = order[2]\n",
        "  price_per_item = order[3]\n",
        "  total_price = quantity * price_per_item\n",
        "  if total_price < 100:\n",
        "    total_price += 10\n",
        "  return (order_number, total_price)\n",
        "\n",
        "# Use map and a lambda function to process each order\n",
        "adjusted_order_prices = list(map(lambda order: calculate_adjusted_price(order), book_orders))\n",
        "\n",
        "print(adjusted_order_prices)"
      ],
      "metadata": {
        "colab": {
          "base_uri": "https://localhost:8080/"
        },
        "id": "n2OUbz_LGWjJ",
        "outputId": "13fe649c-b2ee-4165-e839-b88a860cfe75"
      },
      "execution_count": 46,
      "outputs": [
        {
          "output_type": "stream",
          "name": "stdout",
          "text": [
            "[(34587, 163.8), (98762, 284.0), (77226, 108.85000000000001), (88112, 84.97)]\n"
          ]
        }
      ]
    },
    {
      "cell_type": "code",
      "source": [],
      "metadata": {
        "id": "kbGd9D3pGAKR"
      },
      "execution_count": null,
      "outputs": []
    }
  ]
}